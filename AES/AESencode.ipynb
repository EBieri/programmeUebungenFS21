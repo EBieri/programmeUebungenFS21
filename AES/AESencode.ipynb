{
 "cells": [
  {
   "cell_type": "markdown",
   "metadata": {},
   "source": [
    "# Symmetrische AES-Verschlüsselung\n",
    "# Encode -- Verschlüsselung\n",
    "\n",
    "Beispiel, siehe: https://qvault.io/cryptography/aes-256-cipher-python-cryptography-examples/"
   ]
  },
  {
   "cell_type": "code",
   "execution_count": 1,
   "metadata": {},
   "outputs": [],
   "source": [
    "from base64 import b64encode, b64decode\n",
    "import hashlib\n",
    "from Cryptodome.Cipher import AES\n",
    "import os\n",
    "from Cryptodome.Random import get_random_bytes\n",
    "import json"
   ]
  },
  {
   "cell_type": "code",
   "execution_count": 2,
   "metadata": {},
   "outputs": [],
   "source": [
    "# Eingabe:\n",
    "# Klartextdatei:\n",
    "nameKlartextdatei = 'AESKlartext.txt'\n",
    "# Passwort:\n",
    "#password = input(\"Password: \")\n",
    "password = \"test\""
   ]
  },
  {
   "cell_type": "code",
   "execution_count": 3,
   "metadata": {},
   "outputs": [],
   "source": [
    "# Test aus Klartextdatei in Variable klartext einlesen\n",
    "datei = open(nameKlartextdatei,\"r\")\n",
    "klartext = datei.read()\n",
    "datei.close()"
   ]
  },
  {
   "cell_type": "code",
   "execution_count": 4,
   "metadata": {},
   "outputs": [],
   "source": [
    "# AES 256 encryption/decryption using pycryptodome library\n",
    "\n",
    "def encrypt(plain_text, password):\n",
    "    # generate a random salt\n",
    "    salt = get_random_bytes(AES.block_size)\n",
    "\n",
    "    # use the Scrypt KDF to get a private key from the password\n",
    "    private_key = hashlib.scrypt(\n",
    "        password.encode(), salt=salt, n=2**14, r=8, p=1, dklen=32)\n",
    "\n",
    "    # create cipher config\n",
    "    cipher_config = AES.new(private_key, AES.MODE_GCM)\n",
    "\n",
    "    # return a dictionary with the encrypted text\n",
    "    cipher_text, tag = cipher_config.encrypt_and_digest(bytes(plain_text, 'utf-8'))\n",
    "    return {\n",
    "        'cipher_text': b64encode(cipher_text).decode('utf-8'),\n",
    "        'salt': b64encode(salt).decode('utf-8'),\n",
    "        'nonce': b64encode(cipher_config.nonce).decode('utf-8'),\n",
    "        'tag': b64encode(tag).decode('utf-8')\n",
    "    }\n",
    "\n",
    "\n",
    "def decrypt(enc_dict, password):\n",
    "    # decode the dictionary entries from base64\n",
    "    salt = b64decode(enc_dict['salt'])\n",
    "    cipher_text = b64decode(enc_dict['cipher_text'])\n",
    "    nonce = b64decode(enc_dict['nonce'])\n",
    "    tag = b64decode(enc_dict['tag'])\n",
    "    \n",
    "\n",
    "    # generate the private key from the password and salt\n",
    "    private_key = hashlib.scrypt(\n",
    "        password.encode(), salt=salt, n=2**14, r=8, p=1, dklen=32)\n",
    "\n",
    "    # create the cipher config\n",
    "    cipher = AES.new(private_key, AES.MODE_GCM, nonce=nonce)\n",
    "\n",
    "    # decrypt the cipher text\n",
    "    decrypted = cipher.decrypt_and_verify(cipher_text, tag)\n",
    "\n",
    "    return decrypted\n",
    "\n",
    "# First let us encrypt secret message\n",
    "encrypted = encrypt(klartext, password)\n",
    "#print(encrypted) # ist dict"
   ]
  },
  {
   "cell_type": "code",
   "execution_count": 5,
   "metadata": {},
   "outputs": [
    {
     "name": "stdout",
     "output_type": "stream",
     "text": [
      "das gewählte Passwort ist: test\n",
      "gewähltes Passwort als Ganzzahl: 1952805748\n"
     ]
    }
   ],
   "source": [
    "# Ausgabe des verschlüsselten Textes in Datei\n",
    "datei = open('AESgeheimtextAusgabe.txt',\"w\")\n",
    "#datei.write(encrypted['cipher_text'])\n",
    "datei.write(json.dumps(encrypted))\n",
    "datei.close()\n",
    "\n",
    "# Ausgabe Passwort:\n",
    "print(\"das gewählte Passwort ist: \" + password)\n",
    "# Ausgabe Passwort als Zahl\n",
    "#Umwandlung str -> bytes -> int, siehe https://www.geeksforgeeks.org/how-to-convert-bytes-to-int-in-python/\n",
    "PWalsZahl = int.from_bytes(password.encode('utf-8'), \"big\")\n",
    "print(\"gewähltes Passwort als Ganzzahl: \" + str(PWalsZahl))"
   ]
  },
  {
   "cell_type": "code",
   "execution_count": 8,
   "metadata": {},
   "outputs": [
    {
     "name": "stdout",
     "output_type": "stream",
     "text": [
      "The watermark extension is already loaded. To reload it, use:\n",
      "  %reload_ext watermark\n",
      "Python implementation: CPython\n",
      "Python version       : 3.8.3\n",
      "IPython version      : 7.16.1\n",
      "\n",
      "wget         : not installed\n",
      "pandas       : 1.0.5\n",
      "numpy        : 1.18.5\n",
      "geopy        : not installed\n",
      "altair       : not installed\n",
      "vega_datasets: not installed\n",
      "watermark    : 2.2.0\n",
      "matplotlib   : 3.2.2\n",
      "xlrd         : 1.2.0\n",
      "openpyxl     : 3.0.4\n",
      "xlsxwriter   : 1.2.9\n",
      "Cryptodome   : 3.10.1\n",
      "pycryptodomex: not installed\n",
      "\n",
      "Compiler    : GCC 7.3.0\n",
      "OS          : Linux\n",
      "Release     : 5.4.0-74-generic\n",
      "Machine     : x86_64\n",
      "Processor   : x86_64\n",
      "CPU cores   : 4\n",
      "Architecture: 64bit\n",
      "\n",
      " \n",
      "Last updated: Sun Jun 06 2021 16:08:16CEST\n",
      "\n"
     ]
    }
   ],
   "source": [
    "%load_ext watermark\n",
    "\n",
    "%watermark -v -m -p wget,pandas,numpy,geopy,altair,vega_datasets,watermark,matplotlib,xlrd,openpyxl,xlsxwriter,Cryptodome,pycryptodomex\n",
    "\n",
    "# date\n",
    "print(\" \")\n",
    "%watermark -u -n -t -z"
   ]
  },
  {
   "cell_type": "code",
   "execution_count": null,
   "metadata": {},
   "outputs": [],
   "source": []
  }
 ],
 "metadata": {
  "kernelspec": {
   "display_name": "Python 3",
   "language": "python",
   "name": "python3"
  },
  "language_info": {
   "codemirror_mode": {
    "name": "ipython",
    "version": 3
   },
   "file_extension": ".py",
   "mimetype": "text/x-python",
   "name": "python",
   "nbconvert_exporter": "python",
   "pygments_lexer": "ipython3",
   "version": "3.8.3"
  }
 },
 "nbformat": 4,
 "nbformat_minor": 4
}
