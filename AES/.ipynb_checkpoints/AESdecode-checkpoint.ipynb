{
 "cells": [
  {
   "cell_type": "markdown",
   "metadata": {},
   "source": [
    "# Symmetrische AES-Verschlüsselung\n",
    "# Decode -- Entschlüsselung\n",
    "\n",
    "Beispiel, siehe: https://qvault.io/cryptography/aes-256-cipher-python-cryptography-examples/"
   ]
  },
  {
   "cell_type": "code",
   "execution_count": 5,
   "metadata": {},
   "outputs": [],
   "source": [
    "# Eingabe:\n",
    "# Geheimtextdatei:\n",
    "nameGeheimtextdatei = 'AESgeheimtextAusgabe.txt'\n",
    "# Passwort als Zahl\n",
    "PWalsZahl = 1952805748"
   ]
  },
  {
   "cell_type": "code",
   "execution_count": 6,
   "metadata": {},
   "outputs": [
    {
     "name": "stdout",
     "output_type": "stream",
     "text": [
      "Das Passwort ist: test\n"
     ]
    }
   ],
   "source": [
    "# Test aus Klartextdatei in Variable klartext einlesen\n",
    "datei = open(nameGeheimtextdatei,\"r\")\n",
    "geheimtext = datei.read()\n",
    "datei.close()\n",
    "# PWalsZahl in PW umwandeln, Umwandlung int -> byte\n",
    "length = 0\n",
    "while 1:\n",
    "    try:\n",
    "        zahlalsbytes = PWalsZahl.to_bytes(length,\"big\")\n",
    "        #for i in zahlalsbytes:\n",
    "        #    print(i)\n",
    "        break\n",
    "    except:\n",
    "        length = length + 1\n",
    "        pass\n",
    "#print(zahlalsbytes)\n",
    "\n",
    "# Umwandlung bytes -> str:\n",
    "password = zahlalsbytes.decode('utf-8')\n",
    "print('Das Passwort ist: ' + password)"
   ]
  },
  {
   "cell_type": "code",
   "execution_count": 7,
   "metadata": {},
   "outputs": [],
   "source": [
    "# AES 256 encryption/decryption using pycryptodome library\n",
    "\n",
    "from base64 import b64encode, b64decode\n",
    "import hashlib\n",
    "from Cryptodome.Cipher import AES\n",
    "import os\n",
    "from Cryptodome.Random import get_random_bytes\n",
    "import json\n",
    "\n",
    "def encrypt(plain_text, password):\n",
    "    # generate a random salt\n",
    "    salt = get_random_bytes(AES.block_size)\n",
    "\n",
    "    # use the Scrypt KDF to get a private key from the password\n",
    "    private_key = hashlib.scrypt(\n",
    "        password.encode(), salt=salt, n=2**14, r=8, p=1, dklen=32)\n",
    "\n",
    "    # create cipher config\n",
    "    cipher_config = AES.new(private_key, AES.MODE_GCM)\n",
    "\n",
    "    # return a dictionary with the encrypted text\n",
    "    cipher_text, tag = cipher_config.encrypt_and_digest(bytes(plain_text, 'utf-8'))\n",
    "    return {\n",
    "        'cipher_text': b64encode(cipher_text).decode('utf-8'),\n",
    "        'salt': b64encode(salt).decode('utf-8'),\n",
    "        'nonce': b64encode(cipher_config.nonce).decode('utf-8'),\n",
    "        'tag': b64encode(tag).decode('utf-8')\n",
    "    }\n",
    "\n",
    "\n",
    "def decrypt(enc_dict, password):\n",
    "    # decode the dictionary entries from base64\n",
    "    salt = b64decode(enc_dict['salt'])\n",
    "    cipher_text = b64decode(enc_dict['cipher_text'])\n",
    "    nonce = b64decode(enc_dict['nonce'])\n",
    "    tag = b64decode(enc_dict['tag'])\n",
    "    \n",
    "\n",
    "    # generate the private key from the password and salt\n",
    "    private_key = hashlib.scrypt(\n",
    "        password.encode(), salt=salt, n=2**14, r=8, p=1, dklen=32)\n",
    "\n",
    "    # create the cipher config\n",
    "    cipher = AES.new(private_key, AES.MODE_GCM, nonce=nonce)\n",
    "\n",
    "    # decrypt the cipher text\n",
    "    decrypted = cipher.decrypt_and_verify(cipher_text, tag)\n",
    "\n",
    "    return decrypted\n",
    "\n",
    "# Let us decrypt using our original password\n",
    "decrypted = decrypt(json.loads(geheimtext), password)\n",
    "decrypted = decrypted.decode('utf-8')\n",
    "#print(bytes.decode(decrypted))"
   ]
  },
  {
   "cell_type": "code",
   "execution_count": 8,
   "metadata": {},
   "outputs": [
    {
     "name": "stdout",
     "output_type": "stream",
     "text": [
      "Willkommen zu den Matheübungen!\n",
      "Willkommen zu den Matheübungen!\n",
      "Willkommen zu den Matheübungen!\n",
      "Willkommen zu den Matheübungen!\n",
      "Willkommen zu den Matheübungen!\n",
      "\n"
     ]
    }
   ],
   "source": [
    "print(decrypted)"
   ]
  },
  {
   "cell_type": "code",
   "execution_count": 9,
   "metadata": {},
   "outputs": [],
   "source": [
    "# Ausgabe des Klartextes in Datei:\n",
    "datei = open('AESklartextAusgabe.txt',\"w\")\n",
    "datei.write(str(decrypted))\n",
    "datei.close()\n"
   ]
  }
 ],
 "metadata": {
  "kernelspec": {
   "display_name": "Python 3",
   "language": "python",
   "name": "python3"
  },
  "language_info": {
   "codemirror_mode": {
    "name": "ipython",
    "version": 3
   },
   "file_extension": ".py",
   "mimetype": "text/x-python",
   "name": "python",
   "nbconvert_exporter": "python",
   "pygments_lexer": "ipython3",
   "version": "3.8.3"
  }
 },
 "nbformat": 4,
 "nbformat_minor": 4
}
