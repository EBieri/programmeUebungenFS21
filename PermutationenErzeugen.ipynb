{
 "cells": [
  {
   "cell_type": "markdown",
   "metadata": {},
   "source": [
    "# Zufällige Permutation erzeugen\n",
    "\n",
    "Hilfprogramm für die **monoalphabetische Subsitution** zur Erzeugung einer zufälligen Permutation (=Vertauschung) von Buchstaben des Klartextalphabets.\n",
    "\n",
    "Eingabe: Textstring 'alphabet'\n",
    "\n",
    "Ausgabe: Textstring 'ausgabealphabet' mit zufällig vertauschten\n",
    "         Einträgen aus 'alphabet'"
   ]
  },
  {
   "cell_type": "code",
   "execution_count": 21,
   "metadata": {},
   "outputs": [
    {
     "name": "stdout",
     "output_type": "stream",
     "text": [
      "OUSQTZBNIRDALKYJPVMFWGCXEH\n"
     ]
    }
   ],
   "source": [
    "import random\n",
    "# Eingabe Textstring 'alphabet'\n",
    "alphabet =\"ABCDEFGHIJKLMONPQRSTUVWXYZ\"\n",
    "\n",
    "# Liste erstellen aus 'alphabet'\n",
    "listealphabet = list(alphabet)\n",
    "\n",
    "\n",
    "listezufallszahlen = [] \n",
    "listezufallszahlenalphabet = []\n",
    "\n",
    "# Liste mit zufälligen Zahlen erzeugen\n",
    "for i in range (len(listealphabet)):    \n",
    "    listezufallszahlen.append(random.randrange(1,101,1))\n",
    "\n",
    "# Liste der zufälligen Zahlen verknüpfen mit der Liste 'alphabet'\n",
    "for i in range (len(listealphabet)):     \n",
    "    listezufallszahlenalphabet.append([listezufallszahlen[i],listealphabet[i]])\n",
    "#print(listezufallszahlen)  \n",
    "    \n",
    "# 'listezufallszahlenalphabet' nach Zahlen sortieren: So werden die Buchstaben zufällig\n",
    "# sortiert.\n",
    "listezufallszahlenalphabet.sort()\n",
    "\n",
    "\n",
    "# Die Einträge in der 2. Spalte der Liste listezufallszahlenalphabet werden\n",
    "# zu einem String 'ausgabealphabet' zusammengefügt\n",
    "ausgabealphabet = \"\"\n",
    "for i in range (len(listealphabet)): \n",
    "    #print(listezufallszahlenalphabet[i][1])\n",
    "    ausgabealphabet = ausgabealphabet + listezufallszahlenalphabet[i][1]\n",
    "\n",
    "# Um die verschiedenen Variablen anzusehen: Einfach # entfernen\n",
    "# und Programm nochmals laufen lassen!\n",
    "#print(alphabet)\n",
    "#print(listealphabet)\n",
    "#print(listezufallszahlen)  \n",
    "#print(listezufallszahlenalphabet)    \n",
    "\n",
    "print(ausgabealphabet)"
   ]
  },
  {
   "cell_type": "code",
   "execution_count": null,
   "metadata": {},
   "outputs": [],
   "source": []
  }
 ],
 "metadata": {
  "kernelspec": {
   "display_name": "Python 3",
   "language": "python",
   "name": "python3"
  },
  "language_info": {
   "codemirror_mode": {
    "name": "ipython",
    "version": 3
   },
   "file_extension": ".py",
   "mimetype": "text/x-python",
   "name": "python",
   "nbconvert_exporter": "python",
   "pygments_lexer": "ipython3",
   "version": "3.8.3"
  }
 },
 "nbformat": 4,
 "nbformat_minor": 4
}
