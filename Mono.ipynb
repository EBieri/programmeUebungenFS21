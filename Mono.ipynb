{
 "cells": [
  {
   "cell_type": "markdown",
   "metadata": {},
   "source": [
    "Kleines Programm zur monoalphabetischen Substitution"
   ]
  },
  {
   "cell_type": "code",
   "execution_count": 6,
   "metadata": {},
   "outputs": [],
   "source": [
    "#verschl oder entschl\n",
    "modus = \"verschl\"\n",
    "#modus = \"entschl\""
   ]
  },
  {
   "cell_type": "code",
   "execution_count": 7,
   "metadata": {},
   "outputs": [],
   "source": [
    "eingabe = \"LEGENWIRLOS!\""
   ]
  },
  {
   "cell_type": "code",
   "execution_count": 8,
   "metadata": {},
   "outputs": [],
   "source": [
    "klar = \"ABCDEFGHIJKLMNOPQRSTUVWXYZ\"\n",
    "code = \"KANTOSCHULERYBDFGIJMPQVWXZ\""
   ]
  },
  {
   "cell_type": "code",
   "execution_count": 9,
   "metadata": {},
   "outputs": [],
   "source": [
    "# 2D-Liste mit klartext und geheimtextalphabet\n",
    "if (modus == \"verschl\"):\n",
    "    ersetzungstabelle = [\n",
    "        list(klar),\n",
    "        list(code)\n",
    "    ]\n",
    "elif (modus == \"entschl\"):\n",
    "    ersetzungstabelle = [\n",
    "        list(code),\n",
    "        list(klar)\n",
    "    ]\n",
    "else:\n",
    "    print(\"modus weder verschl noch entschl, Abbruch\")\n",
    "    exit()\n",
    "    \n",
    "eingabeliste = list(eingabe.upper())\n",
    "ausgabeliste = []\n",
    "\n",
    "for i in eingabeliste:\n",
    "    try:\n",
    "        ausgabeliste.append(ersetzungstabelle[1][ersetzungstabelle[0].index(i)])\n",
    "    except:\n",
    "        #print(i + \" \" + i)\n",
    "        ausgabeliste.append(i)\n",
    "        \n",
    "ausgabe = ''.join(ausgabeliste)"
   ]
  },
  {
   "cell_type": "code",
   "execution_count": 10,
   "metadata": {},
   "outputs": [
    {
     "name": "stdout",
     "output_type": "stream",
     "text": [
      "ROCOBVUIRDJ!\n"
     ]
    }
   ],
   "source": [
    "print(ausgabe)"
   ]
  }
 ],
 "metadata": {
  "kernelspec": {
   "display_name": "Python 3",
   "language": "python",
   "name": "python3"
  },
  "language_info": {
   "codemirror_mode": {
    "name": "ipython",
    "version": 3
   },
   "file_extension": ".py",
   "mimetype": "text/x-python",
   "name": "python",
   "nbconvert_exporter": "python",
   "pygments_lexer": "ipython3",
   "version": "3.8.3"
  }
 },
 "nbformat": 4,
 "nbformat_minor": 4
}
