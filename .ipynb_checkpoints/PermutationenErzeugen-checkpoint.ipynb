{
 "cells": [
  {
   "cell_type": "markdown",
   "metadata": {},
   "source": [
    "# Zufällige Permutation erzeugen\n",
    "1. Eingabe String\n",
    "2. Dieser wird in Liste zerlegt\n",
    "3. Liste gleicher Länge mit "
   ]
  },
  {
   "cell_type": "code",
   "execution_count": 1,
   "metadata": {},
   "outputs": [
    {
     "name": "stdout",
     "output_type": "stream",
     "text": [
      "ABCDEFGHIJKLMONPQRSTUVWXYZ\n",
      "YNCOIPVJXQWHMSGKZLFRDTAEBU\n"
     ]
    }
   ],
   "source": [
    "import random\n",
    "# (1) Eingabe String\n",
    "alphabet =\"ABCDEFGHIJKLMONPQRSTUVWXYZ\"\n",
    "listealphabet = list(alphabet)\n",
    "\n",
    "# (2) Liste mit zufälligen Zahlen erzeugen\n",
    "listezufallszahlen = [] \n",
    "listezufallszahlenalphabet = []\n",
    "for i in range (len(listealphabet)):    \n",
    "    listezufallszahlen.append(random.randrange(1,101,1))  \n",
    "    listezufallszahlenalphabet.append([listezufallszahlen[i],listealphabet[i]])\n",
    "listezufallszahlenalphabet.sort()\n",
    "\n",
    "print(alphabet)\n",
    "# print(listealphabet)\n",
    "# print(listezufallszahlen)      \n",
    "# print(listezufallszahlenalphabet)\n",
    "\n",
    "ausgabealphabet = \"\"\n",
    "for i in range (len(listealphabet)): \n",
    "    #print(listezufallszahlenalphabet[i][1])\n",
    "    ausgabealphabet = ausgabealphabet + listezufallszahlenalphabet[i][1]\n",
    "    \n",
    "print(ausgabealphabet)"
   ]
  }
 ],
 "metadata": {
  "kernelspec": {
   "display_name": "Python 3",
   "language": "python",
   "name": "python3"
  },
  "language_info": {
   "codemirror_mode": {
    "name": "ipython",
    "version": 3
   },
   "file_extension": ".py",
   "mimetype": "text/x-python",
   "name": "python",
   "nbconvert_exporter": "python",
   "pygments_lexer": "ipython3",
   "version": "3.8.3"
  }
 },
 "nbformat": 4,
 "nbformat_minor": 4
}
