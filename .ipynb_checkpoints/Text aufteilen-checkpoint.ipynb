{
 "cells": [
  {
   "cell_type": "markdown",
   "metadata": {},
   "source": [
    "# Text aufteilen\n",
    "Ein Text wird in n Texte aufgeteilt und ausgegeben.\n",
    "Die Aufteilung ist so, dass z.B. bei n = 3 der 1., 4., 7. usw. Buchstabe in einer Datei zusammengefasst werden, dann der 2., 5., 8., usw. in der zweiten und der 3., 6., 9., usw. in der dritten Datei.\n",
    "\n",
    "\n",
    "Eingabe: Textdatei 'text.txt'\n",
    "         Anzahl n\n",
    "         \n",
    "Ausgabe: n Dateien 'ausgabetext(zahl).txt'"
   ]
  },
  {
   "cell_type": "code",
   "execution_count": 2,
   "metadata": {},
   "outputs": [],
   "source": [
    "datei = open(\"cicero.txt\",\"r\")\n",
    "text = datei.read()\n",
    "datei.close()\n",
    "#text = \"Das ist ein Text\"\n",
    "n = 3"
   ]
  },
  {
   "cell_type": "code",
   "execution_count": 3,
   "metadata": {},
   "outputs": [],
   "source": [
    "#ausgabe = []\n",
    "ausgabe = [\"\"]*n"
   ]
  },
  {
   "cell_type": "code",
   "execution_count": 4,
   "metadata": {},
   "outputs": [],
   "source": [
    "# Liste mit Grossbuchstaben aus text erstellen:\n",
    "textliste = list(text.upper())"
   ]
  },
  {
   "cell_type": "code",
   "execution_count": 5,
   "metadata": {},
   "outputs": [
    {
     "data": {
      "text/plain": [
       "['', '', '']"
      ]
     },
     "execution_count": 5,
     "metadata": {},
     "output_type": "execute_result"
    }
   ],
   "source": [
    "ausgabe"
   ]
  },
  {
   "cell_type": "code",
   "execution_count": 6,
   "metadata": {},
   "outputs": [],
   "source": [
    "#liste durchgehen:"
   ]
  },
  {
   "cell_type": "code",
   "execution_count": 7,
   "metadata": {},
   "outputs": [],
   "source": [
    "for idx, val in enumerate(textliste):\n",
    "    #print(idx, val)\n",
    "    #print(idx % n, val)\n",
    "    ausgabe[idx % n] = str(ausgabe[idx % n]) + val"
   ]
  },
  {
   "cell_type": "code",
   "execution_count": 8,
   "metadata": {},
   "outputs": [
    {
     "data": {
      "text/plain": [
       "['N ANCSBT MQEUIIEIEUIQ CI ISHGE RNTCVSTELISIESAAM,O  COELOIVI PHSN CRE MUUA  SUEN MUIOI T CILEPLOA.UAAEN MDEENN  MSSGU DAUSDMAUMT EMONMNOOAIAU\\nU I,TIUEEDIRC TR,OEEELISQ  CTNRC GD EMAEOUR SE IOFUSUIRQ   I TR CTGUH REIEIIEGSPSATEEDNASS GT\\n',\n",
       " 'OEMEI,REC,U MSNNSXITUDTNPLOIRCSMERTIE,AAN TR NRU RUH SRARNAARREIEIUETN\\nISMEI IMOAOMNCSTUH SITHOPR IMUMOT \\nPHDTSRII ARS NMTI MEUAOR ND   NRTNRENEA   IMRI AILTI NMNSAN,USDA  AILEIOR\\nL NMEPTMAQSUR SC,UMAAALTAVE,ESOSIN,T TLA,EOEANTIIT SNE.',\n",
       " 'NR SU U,U ASM GI QSAEORAHOP AOEO\\nAASN  TILTIMDESFETINT B  RSEENOSNRR.AQBD,TIQD NDD DT,OMODPC ISHIQD T NAIRREU,IESUAT,ETT UUTQ LMPAPEAIEN BRT.RTTMEIQD UTGESIESCTNT TA IEINIGESENSPAMLCSE.OROLU TOSPO IEDLSIESON N CCBD SS\\nEN RN M  GTIEEEN ']"
      ]
     },
     "execution_count": 8,
     "metadata": {},
     "output_type": "execute_result"
    }
   ],
   "source": [
    "ausgabe"
   ]
  },
  {
   "cell_type": "code",
   "execution_count": 9,
   "metadata": {},
   "outputs": [
    {
     "name": "stdout",
     "output_type": "stream",
     "text": [
      "0\n",
      "1\n",
      "2\n"
     ]
    }
   ],
   "source": [
    "# In Textdatein ausgeben\n",
    "for idx, val in enumerate(ausgabe):\n",
    "    print(idx)\n",
    "    #print(val)\n",
    "    ausgabedatei = open(\"ausgabetext\" + str(idx).zfill(2) + \".txt\",\"w\")\n",
    "    #ausgabedatei = open(\"ausgabetext{0}.txt\".format(idx),\"w\")\n",
    "    ausgabedatei.write(val)\n",
    "    ausgabedatei.close()"
   ]
  },
  {
   "cell_type": "code",
   "execution_count": 10,
   "metadata": {},
   "outputs": [
    {
     "name": "stdout",
     "output_type": "stream",
     "text": [
      "ausgabetext2.txt\n"
     ]
    }
   ],
   "source": [
    "print(\"ausgabetext{0:}.txt\".format(idx))"
   ]
  },
  {
   "cell_type": "code",
   "execution_count": null,
   "metadata": {},
   "outputs": [],
   "source": []
  }
 ],
 "metadata": {
  "kernelspec": {
   "display_name": "Python 3",
   "language": "python",
   "name": "python3"
  },
  "language_info": {
   "codemirror_mode": {
    "name": "ipython",
    "version": 3
   },
   "file_extension": ".py",
   "mimetype": "text/x-python",
   "name": "python",
   "nbconvert_exporter": "python",
   "pygments_lexer": "ipython3",
   "version": "3.8.3"
  }
 },
 "nbformat": 4,
 "nbformat_minor": 4
}
