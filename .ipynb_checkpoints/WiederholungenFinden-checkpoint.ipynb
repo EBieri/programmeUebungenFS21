{
 "cells": [
  {
   "cell_type": "markdown",
   "metadata": {},
   "source": [
    "# Wiederholungen finden\n",
    "\n",
    "Sich wiederholende Textstellen in einem Text finden.\n",
    "\n",
    "Eingabe: Text und Suchtiefe"
   ]
  },
  {
   "cell_type": "code",
   "execution_count": 2,
   "metadata": {},
   "outputs": [],
   "source": [
    "# Einbinden von Bibliotheken\n",
    "import pandas as pd\n",
    "import os"
   ]
  },
  {
   "cell_type": "code",
   "execution_count": 3,
   "metadata": {},
   "outputs": [],
   "source": [
    "# Eingabedaten:\n",
    "# Dateiname Eingabetext:\n",
    "nameEingabetext = \"text2.txt\"\n",
    "# max. Länge der Wiederholung, nach welcher im Text gesucht wird\n",
    "nmax = 6\n",
    "# min. Länge der Wiederholung, nach welcher im Text gesucht wird\n",
    "nmin = 2\n",
    "# Leerzeichen entfernen? (Y/N)\n",
    "leerzeichenEntfernen = \"Y\"\n",
    "# Satzzeichen entfernen? (Y/N)\n",
    "satzzeichenEntfernen = \"Y\""
   ]
  },
  {
   "cell_type": "markdown",
   "metadata": {},
   "source": [
    "Idee:\n",
    "\n",
    "Text wird Zeichenweise durchgegangen (dafür braucht es wahrscheinlich keine Liste)\n",
    "\n",
    "Bei jedem Zeichen wir bis zur maximalen Suchtiefe im ganzen Text danach gesucht und bei Erfolg ein Zähler hochgezählt.\n",
    "\n",
    "Resultat wird in einer Liste gespeichert."
   ]
  },
  {
   "cell_type": "code",
   "execution_count": 4,
   "metadata": {},
   "outputs": [
    {
     "name": "stdout",
     "output_type": "stream",
     "text": [
      "[[], [5, 'vw', 0, 183, 0, 249, 0, 333, 0, 339], [3, 'vwg', 0, 183, 0, 339], [2, 'vwgv', 0, 183], [3, 'wg', 1, 184, 1, 340], [2, 'wgv', 1, 184], [3, 'gv', 2, 4, 2, 185], [2, 'gv', 4, 185], [5, 'vy', 5, 116, 5, 233, 5, 257, 5, 326], [3, 'kb', 7, 92, 7, 132], [5, 'bv', 8, 65, 8, 167, 8, 182, 8, 239], [5, 'vf', 9, 15, 9, 186, 9, 207, 9, 300], [2, 'fb', 10, 189], [2, 'bx', 11, 124], [2, 'bxs', 11, 124], [3, 'xs', 12, 125, 12, 345], [2, 'sx', 13, 292], [4, 'vf', 15, 186, 15, 207, 15, 300], [2, 'vfl', 15, 207], [2, 'vflt', 15, 207], [2, 'vfltv', 15, 207], [2, 'vfltve', 15, 207], [2, 'fl', 16, 208], [2, 'flt', 16, 208], [2, 'fltv', 16, 208], [2, 'fltve', 16, 208], [2, 'fltvel', 16, 208], [2, 'lt', 17, 209], [2, 'ltv', 17, 209], [2, 'ltve', 17, 209], [2, 'ltvel', 17, 209], [2, 'ltvels', 17, 209], [5, 'tv', 18, 111, 18, 135, 18, 210, 18, 242], [2, 'tve', 18, 210], [2, 'tvel', 18, 210], [2, 'tvels', 18, 210], [2, 'tvelsl', 18, 210], [2, 've', 19, 211], [2, 'vel', 19, 211], [2, 'vels', 19, 211], [2, 'velsl', 19, 211], [2, 'velslj', 19, 211], [4, 'el', 20, 26, 20, 212, 20, 218], [2, 'els', 20, 212], [2, 'elsl', 20, 212], [2, 'elslj', 20, 212], [2, 'elsljs', 20, 212], [2, 'ls', 21, 213], [2, 'lsl', 21, 213], [2, 'lslj', 21, 213], [2, 'lsljs', 21, 213], [2, 'lsljse', 21, 213], [2, 'sl', 22, 214], [2, 'slj', 22, 214], [2, 'sljs', 22, 214], [2, 'sljse', 22, 214], [2, 'sljsel', 22, 214], [2, 'lj', 23, 215], [2, 'ljs', 23, 215], [2, 'ljse', 23, 215], [2, 'ljsel', 23, 215], [2, 'ljselb', 23, 215], [2, 'js', 24, 216], [2, 'jse', 24, 216], [2, 'jsel', 24, 216], [2, 'jselb', 24, 216], [2, 'jselbz', 24, 216], [2, 'se', 25, 217], [2, 'sel', 25, 217], [2, 'selb', 25, 217], [2, 'selbz', 25, 217], [3, 'el', 26, 212, 26, 218], [2, 'elb', 26, 218], [2, 'elbz', 26, 218], [3, 'lb', 27, 123, 27, 219], [2, 'lbz', 27, 219], [3, 'bz', 28, 153, 28, 220], [2, 'zq', 29, 48], [2, 'eo', 33, 114], [2, 'eov', 33, 114], [3, 'ov', 34, 115, 34, 206], [4, 'vb', 35, 174, 35, 204, 35, 303], [7, 'sg', 37, 127, 37, 151, 37, 160, 37, 178, 37, 316, 37, 346], [2, 'gm', 40, 259], [2, 'mm', 41, 103], [7, 'sk', 43, 73, 43, 91, 43, 121, 43, 227, 43, 229, 43, 253], [2, 'skx', 43, 73], [2, 'skxz', 43, 73], [2, 'kx', 44, 74], [2, 'kxz', 44, 74], [4, 'xz', 45, 47, 45, 75, 45, 155], [3, 'zx', 46, 154, 46, 283], [2, 'zxz', 46, 154], [3, 'xz', 47, 75, 47, 155], [2, 'qa', 49, 202], [2, 'wm', 55, 250], [2, 'wmu', 55, 250], [2, 'wmus', 55, 250], [3, 'mu', 56, 146, 56, 251], [2, 'mus', 56, 251], [5, 'us', 57, 90, 57, 120, 57, 150, 57, 252], [2, 'vi', 60, 243], [2, 'viy', 60, 243], [4, 'iy', 61, 194, 61, 244, 61, 330], [2, 'yj', 62, 327], [3, 'jh', 63, 222, 63, 279], [2, 'hb', 64, 199], [4, 'bv', 65, 167, 65, 182, 65, 239], [2, 'es', 69, 72], [3, 'sb', 70, 130, 70, 181], [2, 'be', 71, 305], [6, 'sk', 73, 91, 73, 121, 73, 227, 73, 229, 73, 253], [2, 'xz', 75, 155], [2, 'kh', 78, 285], [2, 'khx', 78, 285], [4, 'hx', 79, 169, 79, 280, 79, 286], [3, 'hxe', 79, 169, 79, 280], [6, 'xe', 80, 170, 80, 263, 80, 266, 80, 281, 80, 293], [3, 'rb', 87, 99, 87, 238], [2, 'bw', 88, 268], [4, 'us', 90, 120, 90, 150, 90, 252], [3, 'usk', 90, 120, 90, 252], [5, 'sk', 91, 121, 91, 227, 91, 229, 91, 253], [2, 'kb', 92, 132], [2, 'hr', 98, 191], [2, 'rb', 99, 238], [2, 'bt', 100, 133], [2, 'yx', 106, 117], [3, 'xi', 107, 287, 107, 329], [2, 'ig', 108, 295], [2, 'gn', 109, 317], [4, 'tv', 111, 135, 111, 210, 111, 242], [2, 'ov', 115, 206], [4, 'vy', 116, 233, 116, 257, 116, 326], [2, 'xx', 118, 344], [2, 'xu', 119, 149], [2, 'xus', 119, 149], [3, 'us', 120, 150, 120, 252], [2, 'usk', 120, 252], [4, 'sk', 121, 227, 121, 229, 121, 253], [2, 'lb', 123, 219], [2, 'xs', 125, 345], [2, 'ss', 126, 180], [6, 'sg', 127, 151, 127, 160, 127, 178, 127, 316, 127, 346], [2, 'sgy', 127, 160], [2, 'gy', 128, 161], [2, 'sb', 130, 181], [3, 'tv', 135, 210, 135, 242], [2, 'rx', 139, 265], [2, 'rz', 144, 192], [2, 'mu', 146, 251], [2, 'uw', 147, 297], [3, 'wx', 148, 319, 148, 322], [2, 'us', 150, 252], [5, 'sg', 151, 160, 151, 178, 151, 316, 151, 346], [2, 'bz', 153, 220], [2, 'zx', 154, 283], [4, 'ks', 159, 177, 159, 228, 159, 254], [2, 'ksg', 159, 177], [4, 'sg', 160, 178, 160, 316, 160, 346], [3, 'yo', 162, 195, 162, 234], [2, 'oe', 163, 313], [3, 'bv', 167, 182, 167, 239], [4, 'vh', 168, 198, 168, 225, 168, 336], [3, 'hx', 169, 280, 169, 286], [2, 'hxe', 169, 280], [5, 'xe', 170, 263, 170, 266, 170, 281, 170, 293], [3, 'vb', 174, 204, 174, 303], [3, 'ks', 177, 228, 177, 254], [3, 'sg', 178, 316, 178, 346], [2, 'bv', 182, 239], [4, 'vw', 183, 249, 183, 333, 183, 339], [2, 'vwg', 183, 339], [2, 'wg', 184, 340], [3, 'vf', 186, 207, 186, 300], [2, 'ff', 187, 188], [3, 'iy', 194, 244, 194, 330], [2, 'yo', 195, 234], [3, 'vh', 198, 225, 198, 336], [2, 'vb', 204, 303], [2, 'vf', 207, 300], [2, 'tv', 210, 242], [2, 'el', 212, 218], [2, 'zj', 221, 278], [2, 'zjh', 221, 278], [2, 'jh', 222, 279], [2, 'vh', 225, 336], [3, 'sk', 227, 229, 227, 253], [2, 'sks', 227, 253], [2, 'ks', 228, 254], [2, 'sk', 229, 253], [2, 'jw', 231, 321], [3, 'wv', 232, 302, 232, 335], [3, 'vy', 233, 257, 233, 326], [3, 'nw', 236, 275, 236, 318], [2, 'iy', 244, 330], [3, 'vw', 249, 333, 249, 339], [2, 'iv', 256, 325], [2, 'ivy', 256, 325], [2, 'vy', 257, 326], [4, 'xe', 263, 266, 263, 281, 263, 293], [3, 'xe', 266, 281, 266, 293], [2, 'wz', 269, 277], [2, 'zs', 270, 291], [2, 'nw', 275, 318], [2, 'ww', 276, 334], [2, 'hx', 280, 286], [2, 'xe', 281, 293], [2, 'xi', 287, 329], [2, 'wv', 302, 335], [2, 'sg', 316, 346], [2, 'wx', 319, 322], [2, 'vw', 333, 339]]\n"
     ]
    }
   ],
   "source": [
    "# Textdatei einlesen und Inhalt in Variable 'text' speichern\n",
    "datei = open(nameEingabetext,\"r\")\n",
    "text = datei.read()\n",
    "datei.close()\n",
    "# Leerzeichen entfernen\n",
    "if (leerzeichenEntfernen == \"Y\"):\n",
    "    text = text.replace(\" \", \"\")\n",
    "# Satzzeichen entfernen\n",
    "if (satzzeichenEntfernen == \"Y\"):\n",
    "    text = text.replace(\".\", \"\")\n",
    "    text = text.replace(\",\", \"\")\n",
    "    text = text.replace(\"?\", \"\")\n",
    "    text = text.replace(\"!\", \"\")\n",
    "    text = text.replace(\";\", \"\")\n",
    "\n",
    "listeWiederholungen = [[]] #[\"Anz. Wiederholungen\", \"Text\", \"Positionen\"]\n",
    "\n",
    "for idx, buchstabe in enumerate(text):\n",
    "    #print(buchstabe, idx)\n",
    "    for i in range(nmin,nmax+1):\n",
    "        zaehler = 1\n",
    "        positionen = []\n",
    "        #print(i)\n",
    "        #print(text[idx:idx+i])\n",
    "        for k in range(idx+1,len(text)):\n",
    "            #print(k)\n",
    "            #print(text[k:k+i])\n",
    "            if (text[idx:idx+i] == text[k:k+i]):\n",
    "                #print(k, text[idx:idx+i])\n",
    "                zaehler = zaehler + 1\n",
    "                positionen.append(idx)\n",
    "                positionen.append(k)\n",
    "            # Wenn das Ende erreicht ist:\n",
    "            if (k == len(text)-1 and zaehler > 1):\n",
    "                #print(zaehler, text[idx:idx+i])\n",
    "                #print([zaehler, text[idx:idx+i]] + positionen)\n",
    "                #listeWiederholungen.append([zaehler, text[idx:idx+i]] + positionen)\n",
    "                try:\n",
    "                    for element in listeWiederholungen:\n",
    "                        if (element[1] == text[idx:idx+i]):\n",
    "                            #pass\n",
    "                            #print(element)\n",
    "                            print(\"Bingo!\")\n",
    "                            element.append(positionen)\n",
    "                        else:\n",
    "                            listeWiederholungen.append([zaehler, text[idx:idx+i]] + positionen)\n",
    "                except:\n",
    "                    listeWiederholungen.append([zaehler, text[idx:idx+i]] + positionen)\n",
    "                \n",
    "print(listeWiederholungen)"
   ]
  },
  {
   "cell_type": "code",
   "execution_count": 5,
   "metadata": {},
   "outputs": [],
   "source": [
    "# Ausgabe-Verzeichnis erstellen, falls es nicht existiert:\n",
    "if not os.path.exists('ausgabe'):\n",
    "    os.makedirs('ausgabe')\n",
    "\n",
    "# Ausgabe Liste nach Excel:\n",
    "pd.DataFrame(listeWiederholungen).to_excel('ausgabe/AusgabeWiederholungen.xlsx', header=False, index=False)"
   ]
  },
  {
   "cell_type": "code",
   "execution_count": 7,
   "metadata": {},
   "outputs": [
    {
     "name": "stdout",
     "output_type": "stream",
     "text": [
      "The watermark extension is already loaded. To reload it, use:\n",
      "  %reload_ext watermark\n",
      "Python implementation: CPython\n",
      "Python version       : 3.8.3\n",
      "IPython version      : 7.16.1\n",
      "\n",
      "pandas   : 1.0.5\n",
      "os       : unknown\n",
      "watermark: 2.2.0\n",
      "openpyxl : 3.0.4\n",
      "numpy    : 1.18.5\n",
      "\n",
      "Compiler    : GCC 7.3.0\n",
      "OS          : Linux\n",
      "Release     : 5.4.0-67-generic\n",
      "Machine     : x86_64\n",
      "Processor   : x86_64\n",
      "CPU cores   : 4\n",
      "Architecture: 64bit\n",
      "\n",
      " \n",
      "Last updated: Mon Mar 22 2021 11:35:36CET\n",
      "\n"
     ]
    }
   ],
   "source": [
    "%load_ext watermark\n",
    "\n",
    "%watermark -v -m -p pandas,os,watermark,openpyxl,numpy\n",
    "\n",
    "# date\n",
    "print(\" \")\n",
    "%watermark -u -n -t -z"
   ]
  },
  {
   "cell_type": "code",
   "execution_count": null,
   "metadata": {},
   "outputs": [],
   "source": []
  }
 ],
 "metadata": {
  "kernelspec": {
   "display_name": "Python 3",
   "language": "python",
   "name": "python3"
  },
  "language_info": {
   "codemirror_mode": {
    "name": "ipython",
    "version": 3
   },
   "file_extension": ".py",
   "mimetype": "text/x-python",
   "name": "python",
   "nbconvert_exporter": "python",
   "pygments_lexer": "ipython3",
   "version": "3.8.3"
  }
 },
 "nbformat": 4,
 "nbformat_minor": 4
}
