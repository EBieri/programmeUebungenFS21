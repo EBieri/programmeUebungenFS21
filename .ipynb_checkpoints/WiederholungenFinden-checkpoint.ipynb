{
 "cells": [
  {
   "cell_type": "markdown",
   "metadata": {},
   "source": [
    "# Wiederholungen finden\n",
    "\n",
    "Sich wiederholende Textstellen in einem Text finden.\n",
    "\n",
    "Eingabe: Text und Suchtiefe"
   ]
  },
  {
   "cell_type": "code",
   "execution_count": 1,
   "metadata": {},
   "outputs": [],
   "source": [
    "# Einbinden von Bibliotheken\n",
    "import pandas as pd\n",
    "import os"
   ]
  },
  {
   "cell_type": "code",
   "execution_count": 6,
   "metadata": {},
   "outputs": [],
   "source": [
    "# Eingabedaten:\n",
    "# Dateiname Eingabetext:\n",
    "nameEingabetext = \"textmitwiederholungen.txt\"\n",
    "# max. Länge der Wiederholung, nach welcher im Text gesucht wird\n",
    "nmax = 6\n",
    "# min. Länge der Wiederholung, nach welcher im Text gesucht wird\n",
    "nmin = 4\n",
    "# Leerzeichen entfernen? (Y/N)\n",
    "leerzeichenEntfernen = \"Y\"\n",
    "# Satzzeichen entfernen? (Y/N)\n",
    "satzzeichenEntfernen = \"Y\""
   ]
  },
  {
   "cell_type": "markdown",
   "metadata": {},
   "source": [
    "Idee:\n",
    "\n",
    "Text wird Zeichenweise durchgegangen (dafür braucht es wahrscheinlich keine Liste)\n",
    "\n",
    "Bei jedem Zeichen wir bis zur maximalen Suchtiefe im ganzen Text danach gesucht und bei Erfolg ein Zähler hochgezählt.\n",
    "\n",
    "Resultat wird in einer Liste gespeichert."
   ]
  },
  {
   "cell_type": "code",
   "execution_count": 7,
   "metadata": {},
   "outputs": [
    {
     "name": "stdout",
     "output_type": "stream",
     "text": [
      "[[], [2, 'text', 10, 63], [3, 'wied', 21, 77, 21, 86], [3, 'wiede', 21, 77, 21, 86], [3, 'wieder', 21, 77, 21, 86], [3, 'iede', 22, 78, 22, 87], [3, 'ieder', 22, 78, 22, 87], [3, 'eder', 23, 79, 23, 88], [2, 'lend', 29, 39], [2, 'nden', 31, 59], [2, 'wied', 77, 86], [2, 'wiede', 77, 86], [2, 'wieder', 77, 86], [2, 'iede', 78, 87], [2, 'ieder', 78, 87], [2, 'eder', 79, 88]]\n"
     ]
    }
   ],
   "source": [
    "# Textdatei einlesen und Inhalt in Variable 'text' speichern\n",
    "datei = open(nameEingabetext,\"r\")\n",
    "text = datei.read()\n",
    "datei.close()\n",
    "# Leerzeichen entfernen\n",
    "if (leerzeichenEntfernen == \"Y\"):\n",
    "    text = text.replace(\" \", \"\")\n",
    "# Satzzeichen entfernen\n",
    "if (satzzeichenEntfernen == \"Y\"):\n",
    "    text = text.replace(\".\", \"\")\n",
    "    text = text.replace(\",\", \"\")\n",
    "    text = text.replace(\"?\", \"\")\n",
    "    text = text.replace(\"!\", \"\")\n",
    "    text = text.replace(\";\", \"\")\n",
    "\n",
    "listeWiederholungen = [[]] #[\"Anz. Wiederholungen\", \"Text\", \"Positionen\"]\n",
    "\n",
    "for idx, buchstabe in enumerate(text):\n",
    "    #print(buchstabe, idx)\n",
    "    for i in range(nmin,nmax+1):\n",
    "        zaehler = 1\n",
    "        positionen = []\n",
    "        #print(i)\n",
    "        #print(text[idx:idx+i])\n",
    "        for k in range(idx+1,len(text)):\n",
    "            #print(k)\n",
    "            #print(text[k:k+i])\n",
    "            if (text[idx:idx+i] == text[k:k+i]):\n",
    "                #print(k, text[idx:idx+i])\n",
    "                zaehler = zaehler + 1\n",
    "                positionen.append(idx)\n",
    "                positionen.append(k)\n",
    "            # Wenn das Ende erreicht ist:\n",
    "            if (k == len(text)-1 and zaehler > 1):\n",
    "                #print(zaehler, text[idx:idx+i])\n",
    "                #print([zaehler, text[idx:idx+i]] + positionen)\n",
    "                #listeWiederholungen.append([zaehler, text[idx:idx+i]] + positionen)\n",
    "                try:\n",
    "                    for element in listeWiederholungen:\n",
    "                        if (element[1] == text[idx:idx+i]):\n",
    "                            #pass\n",
    "                            #print(element)\n",
    "                            print(\"Bingo!\")\n",
    "                            element.append(positionen)\n",
    "                        else:\n",
    "                            listeWiederholungen.append([zaehler, text[idx:idx+i]] + positionen)\n",
    "                except:\n",
    "                    listeWiederholungen.append([zaehler, text[idx:idx+i]] + positionen)\n",
    "                \n",
    "print(listeWiederholungen)"
   ]
  },
  {
   "cell_type": "code",
   "execution_count": 8,
   "metadata": {},
   "outputs": [],
   "source": [
    "# Ausgabe-Verzeichnis erstellen, falls es nicht existiert:\n",
    "if not os.path.exists('ausgabe'):\n",
    "    os.makedirs('ausgabe')\n",
    "\n",
    "# Ausgabe Liste nach Excel:\n",
    "pd.DataFrame(listeWiederholungen).to_excel('ausgabe/AusgabeWiederholungen.xlsx', header=False, index=False)"
   ]
  },
  {
   "cell_type": "code",
   "execution_count": 9,
   "metadata": {},
   "outputs": [
    {
     "name": "stdout",
     "output_type": "stream",
     "text": [
      "The watermark extension is already loaded. To reload it, use:\n",
      "  %reload_ext watermark\n",
      "Python implementation: CPython\n",
      "Python version       : 3.8.3\n",
      "IPython version      : 7.16.1\n",
      "\n",
      "pandas   : 1.0.5\n",
      "os       : unknown\n",
      "watermark: 2.2.0\n",
      "openpyxl : 3.0.4\n",
      "numpy    : 1.18.5\n",
      "\n",
      "Compiler    : GCC 7.3.0\n",
      "OS          : Linux\n",
      "Release     : 5.4.0-67-generic\n",
      "Machine     : x86_64\n",
      "Processor   : x86_64\n",
      "CPU cores   : 4\n",
      "Architecture: 64bit\n",
      "\n",
      " \n",
      "Last updated: Tue Mar 23 2021 08:33:16CET\n",
      "\n"
     ]
    }
   ],
   "source": [
    "%load_ext watermark\n",
    "\n",
    "%watermark -v -m -p pandas,os,watermark,openpyxl,numpy\n",
    "\n",
    "# date\n",
    "print(\" \")\n",
    "%watermark -u -n -t -z"
   ]
  },
  {
   "cell_type": "code",
   "execution_count": null,
   "metadata": {},
   "outputs": [],
   "source": []
  }
 ],
 "metadata": {
  "kernelspec": {
   "display_name": "Python 3",
   "language": "python",
   "name": "python3"
  },
  "language_info": {
   "codemirror_mode": {
    "name": "ipython",
    "version": 3
   },
   "file_extension": ".py",
   "mimetype": "text/x-python",
   "name": "python",
   "nbconvert_exporter": "python",
   "pygments_lexer": "ipython3",
   "version": "3.8.3"
  }
 },
 "nbformat": 4,
 "nbformat_minor": 4
}
