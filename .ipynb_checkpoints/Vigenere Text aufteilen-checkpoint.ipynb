{
 "cells": [
  {
   "cell_type": "markdown",
   "metadata": {},
   "source": [
    "# Text aufteilen\n",
    "Ein Text wird in n Texte aufgeteilt und ausgegeben.\n",
    "Die Aufteilung ist so, dass z.B. bei n = 3 der 1., 4., 7. usw. Buchstabe in einer Datei zusammengefasst werden, dann der 2., 5., 8., usw. in der zweiten und der 3., 6., 9., usw. in der dritten Datei.\n",
    "\n",
    "\n",
    "Eingabe: Textdatei 'textzumaufteilen.txt'\n",
    "         Anzahl n\n",
    "         \n",
    "Ausgabe: n Dateien 'ausgabetext(zahl).txt'\n",
    "\n",
    "**Achtung: Sind Texte mit gleichem Namen schon vorhanden, so werden sie überschrieben!**"
   ]
  },
  {
   "cell_type": "code",
   "execution_count": 5,
   "metadata": {},
   "outputs": [],
   "source": [
    "# Einbinden von Bibliotheken\n",
    "import pandas as pd\n",
    "import os"
   ]
  },
  {
   "cell_type": "code",
   "execution_count": 6,
   "metadata": {},
   "outputs": [],
   "source": [
    "# Eingabedaten:\n",
    "# Dateiname Eingabetext:\n",
    "nameEingabetext = \"textzumaufteilen.txt\"\n",
    "# Anzahl zu erstellende Untertexte:\n",
    "n = 3\n",
    "# Leerzeichen entfernen? (Y/N)\n",
    "leerzeichenEntfernen = \"Y\"\n",
    "# Satzzeichen entfernen? (Y/N)\n",
    "satzzeichenEntfernen = \"Y\""
   ]
  },
  {
   "cell_type": "code",
   "execution_count": 7,
   "metadata": {},
   "outputs": [
    {
     "name": "stdout",
     "output_type": "stream",
     "text": [
      "Siehe Dateien ausgabetext... im Ordner ausgabe\n"
     ]
    }
   ],
   "source": [
    "# Textdatei einlesen und Inhalt in Variable 'text' speichern\n",
    "datei = open(nameEingabetext,\"r\")\n",
    "text = datei.read()\n",
    "datei.close()\n",
    "# Leerzeichen entfernen\n",
    "if (leerzeichenEntfernen == \"Y\"):\n",
    "    text = text.replace(\" \", \"\")\n",
    "# Satzzeichen entfernen\n",
    "if (satzzeichenEntfernen == \"Y\"):\n",
    "    text = text.replace(\".\", \"\")\n",
    "    text = text.replace(\",\", \"\")\n",
    "    text = text.replace(\"?\", \"\")\n",
    "    text = text.replace(\"!\", \"\")\n",
    "    text = text.replace(\";\", \"\")\n",
    "\n",
    "# Liste mit Grossbuchstaben aus text erstellen:\n",
    "textliste = list(text.upper())\n",
    "#print(textliste)\n",
    "\n",
    "# Ausgabeliste mit n Einträgen vorbereiten:\n",
    "ausgabe = [\"\"]*n\n",
    "#print(ausgabe)\n",
    "\n",
    "# 'textliste' wird Eintrag für Eintrag durchgegangen. Der Index des Eintrags wird durch\n",
    "# n geteilt und davon der ganzzahlige Rest untersucht, welcher Werte zwischen 0 und n-1\n",
    "# annehmen kann. Nach diesem Kriterium werden die Buchstaben auf die n Einträge der Liste \n",
    "# 'ausgabe' verteilt.\n",
    "\n",
    "for idx, val in enumerate(textliste):\n",
    "    #print(idx % n, val)\n",
    "    ausgabe[idx % n] = str(ausgabe[idx % n]) + val\n",
    "\n",
    "# Ausgabe-Verzeichnis erstellen, falls es nicht existiert:\n",
    "if not os.path.exists('ausgabe'):\n",
    "    os.makedirs('ausgabe')    \n",
    "\n",
    "# Die Liste 'ausgabe' wird in n Textdateien ausgeben.\n",
    "# Die Textdateien haben die Bezeichnungen\n",
    "# ausgabetext00.txt bis 'ausgabetext(n-1).txt'\n",
    "for idx, val in enumerate(ausgabe):\n",
    "    ausgabedatei = open(\"ausgabe/ausgabetext\" + str(idx+1).zfill(2) + \".txt\",\"w\")\n",
    "    ausgabedatei.write(val)\n",
    "    ausgabedatei.close()\n",
    "print(\"Siehe Dateien ausgabetext... im Ordner ausgabe\")"
   ]
  },
  {
   "cell_type": "code",
   "execution_count": null,
   "metadata": {},
   "outputs": [],
   "source": []
  }
 ],
 "metadata": {
  "kernelspec": {
   "display_name": "Python 3",
   "language": "python",
   "name": "python3"
  },
  "language_info": {
   "codemirror_mode": {
    "name": "ipython",
    "version": 3
   },
   "file_extension": ".py",
   "mimetype": "text/x-python",
   "name": "python",
   "nbconvert_exporter": "python",
   "pygments_lexer": "ipython3",
   "version": "3.8.3"
  }
 },
 "nbformat": 4,
 "nbformat_minor": 4
}
