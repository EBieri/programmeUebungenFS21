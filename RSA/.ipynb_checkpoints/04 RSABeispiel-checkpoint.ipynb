{
 "cells": [
  {
   "cell_type": "markdown",
   "metadata": {},
   "source": [
    "# RSA-Schlüssel erstellen"
   ]
  },
  {
   "cell_type": "code",
   "execution_count": 4,
   "metadata": {},
   "outputs": [],
   "source": [
    "# In dieser Zelle werden Bibliotheken eingebunden und Funktionen definiert \n",
    "from sympy import factorint \n",
    "\n",
    "# Berechnung ggT\n",
    "def gcd(x, y):\n",
    "    'Berechnet den groessten gemeinsamen Teiler zweier Zahlen'\n",
    "    if x <= 0:\n",
    "        return y\n",
    "    else:\n",
    "        return gcd(y % x, x)\n",
    "    \n",
    "# Iterative Version erweiterter euklidischer Algorithmus:\n",
    "def extgcd(a, b):\n",
    "    u, v, s, t = 1, 0, 0, 1\n",
    "    while b!=0:\n",
    "        q=a//b\n",
    "        a, b = b, a-q*b\n",
    "        u, s = s, u-q*s\n",
    "        v, t = t, v-q*t\n",
    "    return a, u, v"
   ]
  },
  {
   "cell_type": "markdown",
   "metadata": {},
   "source": [
    "### Wähle (geheim) zwei Primzahlen $p$ und $q$, siehe z.B. hier http://www.mathe.tu-freiberg.de/~hebisch/cafe/primzahlen.html."
   ]
  },
  {
   "cell_type": "code",
   "execution_count": 5,
   "metadata": {},
   "outputs": [],
   "source": [
    "p = 17\n",
    "q = 23"
   ]
  },
  {
   "cell_type": "markdown",
   "metadata": {},
   "source": [
    "### Berechne $n$ (teilweise in den Unterlagen auch $N$ genannt...)\n",
    "\n",
    "$n = p \\cdot q$"
   ]
  },
  {
   "cell_type": "code",
   "execution_count": 16,
   "metadata": {},
   "outputs": [
    {
     "name": "stdout",
     "output_type": "stream",
     "text": [
      "391\n"
     ]
    }
   ],
   "source": [
    "n = p * q\n",
    "print(n)"
   ]
  },
  {
   "cell_type": "markdown",
   "metadata": {},
   "source": [
    "### Berechne Eulersche $\\varphi(n)$-Funktion\n",
    "\n",
    "$\\varphi(n) = (p-1) \\cdot (q-1)$"
   ]
  },
  {
   "cell_type": "code",
   "execution_count": 17,
   "metadata": {},
   "outputs": [
    {
     "name": "stdout",
     "output_type": "stream",
     "text": [
      "phi: 352\n",
      "Faktoren phi: {2: 5, 11: 1}\n"
     ]
    }
   ],
   "source": [
    "phi = (p-1) * (q-1)\n",
    "print(\"phi: \" + str(phi))\n",
    "print(\"Faktoren phi: \" + str(factorint(phi)))"
   ]
  },
  {
   "cell_type": "markdown",
   "metadata": {},
   "source": [
    "### Wähle eine Zahl $e > 1$, die zu φ(n) teilerfremd ist, also ggT($e$, $\\varphi(n)$) = 1."
   ]
  },
  {
   "cell_type": "code",
   "execution_count": 18,
   "metadata": {},
   "outputs": [
    {
     "name": "stdout",
     "output_type": "stream",
     "text": [
      "Faktoren e: {13: 1}\n",
      "ggT(e,phi) : 1\n"
     ]
    }
   ],
   "source": [
    "e = 13\n",
    "print(\"Faktoren e: \" + str(factorint(e)))\n",
    "print(\"ggT(e,phi) : \" + str(gcd(e,phi)))"
   ]
  },
  {
   "cell_type": "markdown",
   "metadata": {},
   "source": [
    "### Berechne mit dem Euklidischen Algorithmus eine ganze Zahl $d > 1$ mit $e \\cdot d \\equiv 1 \\mod \\varphi(n)$"
   ]
  },
  {
   "cell_type": "code",
   "execution_count": 19,
   "metadata": {},
   "outputs": [
    {
     "name": "stdout",
     "output_type": "stream",
     "text": [
      "-27\n"
     ]
    }
   ],
   "source": [
    "(ggT, d, k) = extgcd(e,phi)\n",
    "print(d)"
   ]
  },
  {
   "cell_type": "markdown",
   "metadata": {},
   "source": [
    "### Falls $d < 0$, muss solange $\\varphi(n)$ zu $d$ addiert werden, bis Wert $> 0$"
   ]
  },
  {
   "cell_type": "code",
   "execution_count": 20,
   "metadata": {},
   "outputs": [
    {
     "name": "stdout",
     "output_type": "stream",
     "text": [
      "325\n"
     ]
    }
   ],
   "source": [
    "while(d < 0):\n",
    "    d = d + phi\n",
    "print(d)"
   ]
  },
  {
   "cell_type": "markdown",
   "metadata": {},
   "source": [
    "# Zusammenfassung"
   ]
  },
  {
   "cell_type": "code",
   "execution_count": 21,
   "metadata": {},
   "outputs": [
    {
     "name": "stdout",
     "output_type": "stream",
     "text": [
      "Der öffentliche Schlüssel ist (n,e) = (391,13)\n",
      "Der private Schlüssel ist d = 325\n"
     ]
    }
   ],
   "source": [
    "print(\"Der öffentliche Schlüssel ist (n,e) = (\" + str(n) + \",\" + str(e) + \")\")\n",
    "print(\"Der private Schlüssel ist d = \" + str(d))"
   ]
  },
  {
   "cell_type": "markdown",
   "metadata": {},
   "source": [
    "## Beispiel Verschlüsselung"
   ]
  },
  {
   "cell_type": "code",
   "execution_count": 22,
   "metadata": {},
   "outputs": [
    {
     "name": "stdout",
     "output_type": "stream",
     "text": [
      "Nachricht m: 9\n",
      "Verschlüsselte Nachricht: 127\n"
     ]
    }
   ],
   "source": [
    "# Nachricht \n",
    "m = 9\n",
    "# Test, ob m < n\n",
    "if m > n:\n",
    "    print(\"ACHTUNG: m muss kleine n sein!!!\")\n",
    "else:\n",
    "    print(\"Nachricht m: \" + str(m))\n",
    "    \n",
    "# Eigentliche Verschlüsselung:\n",
    "c = m**e % n   #m^e mod n\n",
    "print(\"Verschlüsselte Nachricht: \" + str(c))"
   ]
  },
  {
   "cell_type": "markdown",
   "metadata": {},
   "source": [
    "## Beispiel Entschlüsselung"
   ]
  },
  {
   "cell_type": "code",
   "execution_count": 23,
   "metadata": {},
   "outputs": [
    {
     "name": "stdout",
     "output_type": "stream",
     "text": [
      "Verschlüsselte Nachricht: 127\n",
      "Entschlüsselte Nachricht: 9\n"
     ]
    }
   ],
   "source": [
    "# Verschlüsselte Nachricht:\n",
    "c = 127\n",
    "\n",
    "# Entschlüsselung:\n",
    "m = c**d % n       # c^d mod n\n",
    "\n",
    "print(\"Verschlüsselte Nachricht: \" + str(c))\n",
    "print(\"Entschlüsselte Nachricht: \" + str(m))"
   ]
  },
  {
   "cell_type": "code",
   "execution_count": null,
   "metadata": {},
   "outputs": [],
   "source": []
  }
 ],
 "metadata": {
  "kernelspec": {
   "display_name": "Python 3",
   "language": "python",
   "name": "python3"
  },
  "language_info": {
   "codemirror_mode": {
    "name": "ipython",
    "version": 3
   },
   "file_extension": ".py",
   "mimetype": "text/x-python",
   "name": "python",
   "nbconvert_exporter": "python",
   "pygments_lexer": "ipython3",
   "version": "3.8.3"
  }
 },
 "nbformat": 4,
 "nbformat_minor": 4
}
