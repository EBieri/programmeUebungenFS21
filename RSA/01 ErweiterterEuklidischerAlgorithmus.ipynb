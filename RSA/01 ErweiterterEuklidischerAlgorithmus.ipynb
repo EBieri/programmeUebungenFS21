{
 "cells": [
  {
   "cell_type": "markdown",
   "metadata": {},
   "source": [
    "# Erweiterter euklidischer Algorithmus\n",
    "(siehe hier: https://www.inf.hs-flensburg.de/lang/krypto/algo/euklid.htm)\n",
    "\n",
    "## Verwendung:\n",
    "Eingabe: Zwei ganze Zahlen $e$ und $\\varphi(N)$ $ \\in \\mathbb{N_0}$\n",
    "\n",
    "Ausgabe: $ggT(e,\\varphi(N))$, $d$, $k$ mit $ggT(e,\\varphi(N)) = d \\cdot e + k \\cdot \\varphi(N)$ mit $d,k \\in \\mathbb{Z}$"
   ]
  },
  {
   "cell_type": "code",
   "execution_count": 5,
   "metadata": {},
   "outputs": [
    {
     "name": "stdout",
     "output_type": "stream",
     "text": [
      "ggT: 1   d: -5   k: 23\n",
      "d ist das multiplative Inverse zu mod 12\n"
     ]
    }
   ],
   "source": [
    "# EINGABE\n",
    "e = 55\n",
    "phi = 12\n",
    "\n",
    "\n",
    "# Iterative Version erweiterter euklidischer Algorithmus:\n",
    "def extgcd(a, b):\n",
    "    u, v, s, t = 1, 0, 0, 1\n",
    "    while b!=0:\n",
    "        q=a//b\n",
    "        a, b = b, a-q*b\n",
    "        u, s = s, u-q*s\n",
    "        v, t = t, v-q*t\n",
    "    return a, u, v\n",
    "\n",
    "(ggT, d, k) = extgcd(e,phi)\n",
    "\n",
    "\n",
    "# Ausgabe:\n",
    "print(\"ggT: \" + str(ggT) + \"   d: \" + str(d) + \"   k: \" + str(k))\n",
    "if (ggT == 1):\n",
    "    print(\"d ist das multiplative Inverse zu mod \" + str(phi))"
   ]
  },
  {
   "cell_type": "code",
   "execution_count": null,
   "metadata": {},
   "outputs": [],
   "source": []
  }
 ],
 "metadata": {
  "kernelspec": {
   "display_name": "Python 3",
   "language": "python",
   "name": "python3"
  },
  "language_info": {
   "codemirror_mode": {
    "name": "ipython",
    "version": 3
   },
   "file_extension": ".py",
   "mimetype": "text/x-python",
   "name": "python",
   "nbconvert_exporter": "python",
   "pygments_lexer": "ipython3",
   "version": "3.8.3"
  }
 },
 "nbformat": 4,
 "nbformat_minor": 4
}
