{
 "cells": [
  {
   "cell_type": "markdown",
   "metadata": {},
   "source": [
    "# Erzeugung zweier Primzahlen"
   ]
  },
  {
   "cell_type": "code",
   "execution_count": 15,
   "metadata": {},
   "outputs": [],
   "source": [
    "# isprime laden\n",
    "from sympy import isprime\n",
    "# factorint laden\n",
    "from sympy import factorint \n",
    "# für Zufallszahlen\n",
    "from random import randint"
   ]
  },
  {
   "cell_type": "code",
   "execution_count": 44,
   "metadata": {},
   "outputs": [
    {
     "name": "stdout",
     "output_type": "stream",
     "text": [
      "10414370446 103062998855\n"
     ]
    }
   ],
   "source": [
    "# Zufallszahlen bestimmen\n",
    "untereSchranke = 2**30\n",
    "obereSchranke = 100*untereSchranke\n",
    "zufallszahl01 = randint(untereSchranke, obereSchranke)\n",
    "zufallszahl02 = randint(untereSchranke, obereSchranke)\n",
    "print(zufallszahl01,zufallszahl02)"
   ]
  },
  {
   "cell_type": "code",
   "execution_count": 45,
   "metadata": {},
   "outputs": [
    {
     "name": "stdout",
     "output_type": "stream",
     "text": [
      "Primzahl 1: 10414370489\n",
      "Primzahl 2: 103062998867\n"
     ]
    }
   ],
   "source": [
    "# Die nächstgrössere Primzahl finden:\n",
    "primzahl01 = zufallszahl01\n",
    "while 1:\n",
    "    if isprime(primzahl01):\n",
    "        print(\"Primzahl 1: \" + str(primzahl01))\n",
    "        break\n",
    "    primzahl01 = primzahl01 + 1\n",
    "    \n",
    "primzahl02 = zufallszahl02\n",
    "while 1:\n",
    "    if isprime(primzahl02):\n",
    "        print(\"Primzahl 2: \" + str(primzahl02))\n",
    "        break\n",
    "    primzahl02 = primzahl02 + 1"
   ]
  },
  {
   "cell_type": "code",
   "execution_count": 46,
   "metadata": {},
   "outputs": [
    {
     "name": "stdout",
     "output_type": "stream",
     "text": [
      "1073336253908325235963\n"
     ]
    }
   ],
   "source": [
    "n = primzahl01 * primzahl02\n",
    "print(n)"
   ]
  },
  {
   "cell_type": "code",
   "execution_count": 47,
   "metadata": {},
   "outputs": [
    {
     "name": "stdout",
     "output_type": "stream",
     "text": [
      "CPU times: user 1.63 s, sys: 7.98 ms, total: 1.64 s\n",
      "Wall time: 1.64 s\n"
     ]
    },
    {
     "data": {
      "text/plain": [
       "{10414370489: 1, 103062998867: 1}"
      ]
     },
     "execution_count": 47,
     "metadata": {},
     "output_type": "execute_result"
    }
   ],
   "source": [
    "%%time\n",
    "factorint(n)"
   ]
  },
  {
   "cell_type": "code",
   "execution_count": null,
   "metadata": {},
   "outputs": [],
   "source": []
  }
 ],
 "metadata": {
  "kernelspec": {
   "display_name": "Python 3",
   "language": "python",
   "name": "python3"
  },
  "language_info": {
   "codemirror_mode": {
    "name": "ipython",
    "version": 3
   },
   "file_extension": ".py",
   "mimetype": "text/x-python",
   "name": "python",
   "nbconvert_exporter": "python",
   "pygments_lexer": "ipython3",
   "version": "3.8.3"
  }
 },
 "nbformat": 4,
 "nbformat_minor": 4
}
