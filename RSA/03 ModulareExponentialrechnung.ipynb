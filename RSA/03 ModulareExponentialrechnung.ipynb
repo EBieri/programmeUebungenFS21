{
 "cells": [
  {
   "cell_type": "markdown",
   "metadata": {},
   "source": [
    "# Modulare Exponentialrechnung\n",
    "## Syntax\n",
    "$a^b \\mod c$\n",
    "\n",
    "wird in Python folgendermassen geschrieben:\n",
    "\n",
    "`a**b % c`\n",
    "\n",
    "\n",
    "\n",
    "### Beispiel\n",
    "$32^{2812} \\mod 782$\n",
    "\n",
    "ergibt:"
   ]
  },
  {
   "cell_type": "code",
   "execution_count": 1,
   "metadata": {},
   "outputs": [
    {
     "data": {
      "text/plain": [
       "50"
      ]
     },
     "execution_count": 1,
     "metadata": {},
     "output_type": "execute_result"
    }
   ],
   "source": [
    "32**2812 % 782"
   ]
  },
  {
   "cell_type": "code",
   "execution_count": null,
   "metadata": {},
   "outputs": [],
   "source": []
  }
 ],
 "metadata": {
  "kernelspec": {
   "display_name": "Python 3",
   "language": "python",
   "name": "python3"
  },
  "language_info": {
   "codemirror_mode": {
    "name": "ipython",
    "version": 3
   },
   "file_extension": ".py",
   "mimetype": "text/x-python",
   "name": "python",
   "nbconvert_exporter": "python",
   "pygments_lexer": "ipython3",
   "version": "3.8.3"
  }
 },
 "nbformat": 4,
 "nbformat_minor": 4
}
