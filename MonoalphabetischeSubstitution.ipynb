{
 "cells": [
  {
   "cell_type": "markdown",
   "metadata": {},
   "source": [
    "# Monoalphabetische Substitution\n",
    "Kleines Programm zur monoalphabetischen Substitution\n",
    "\n",
    "Bedeutung der Variablen:\n",
    "\n",
    "| Variablenname | Inhalt                                                   |\n",
    "| ------------- | -------------------------------------------------------- |\n",
    "| eingabe       | Eingabetext                                              |\n",
    "| modus         | E -> Encode (Verschlüsseln), D -> Decode (Entschlüsseln) |\n",
    "| klar          | Klartextalphabet                                         |\n",
    "| geheim        | Geheimtextalphabet                                       |\n"
   ]
  },
  {
   "cell_type": "code",
   "execution_count": null,
   "metadata": {},
   "outputs": [],
   "source": [
    "eingabe = \"ROCOBVUIRDJ!\"\n",
    "\n",
    "modus = \"D\"\n",
    "#modus = \"D\"\n",
    "\n",
    "klar =   \"ABCDEFGHIJKLMNOPQRSTUVWXYZ\"\n",
    "geheim = \"KANTOSCHULERYBDFGIJMPQVWXZ\"\n",
    "\n",
    "# 2D-Liste (Ersetzungtabelle) mit Klartext- und Geheimtextalphabet\n",
    "# erstellen\n",
    "if (modus == \"E\"):\n",
    "    ersetzungstabelle = [\n",
    "        list(klar),\n",
    "        list(geheim)\n",
    "    ]\n",
    "# Beim Entschlüsseln ist die Reihenfolge umgekehrt\n",
    "elif (modus == \"D\"):\n",
    "    ersetzungstabelle = [\n",
    "        list(geheim),\n",
    "        list(klar)\n",
    "    ]\n",
    "else:\n",
    "    print(\"modus weder verschl noch entschl, Abbruch\")\n",
    "    exit()\n",
    "\n",
    "# Umwandlung des Eingabetextes in Grossbuchstaben und eine Liste\n",
    "# von Buchstaben\n",
    "eingabeliste = list(eingabe.upper())\n",
    "# Ausgabe (als anfänglich leere Liste)\n",
    "ausgabeliste = []\n",
    "\n",
    "# Jeder Eintrag in der Liste 'eingabeliste' wird nach der\n",
    "# 'ersetzungtabelle' ersetzt, sofern ein Eintrag vorliegt.\n",
    "for i in eingabeliste:\n",
    "    try:\n",
    "        ausgabeliste.append(ersetzungstabelle[1][ersetzungstabelle[0].index(i)])\n",
    "    except:\n",
    "        # Findet sich der zu ersetzende Buchstabe nicht in der \n",
    "        # Ersetzungtabelle, so wir er einfach unverschlüsselt\n",
    "        # hinugefügt (z.B. Leer- oder Satzeichen)\n",
    "        ausgabeliste.append(i)\n",
    "\n",
    "# Einträge in der Liste 'ausgabeliste' werden wieder zu\n",
    "# einem Textstring zusammengefügt\n",
    "ausgabe = ''.join(ausgabeliste)\n",
    "\n",
    "print(ausgabe)"
   ]
  },
  {
   "cell_type": "code",
   "execution_count": null,
   "metadata": {},
   "outputs": [],
   "source": []
  }
 ],
 "metadata": {
  "kernelspec": {
   "display_name": "Python 3",
   "language": "python",
   "name": "python3"
  },
  "language_info": {
   "codemirror_mode": {
    "name": "ipython",
    "version": 3
   },
   "file_extension": ".py",
   "mimetype": "text/x-python",
   "name": "python",
   "nbconvert_exporter": "python",
   "pygments_lexer": "ipython3",
   "version": "3.8.3"
  }
 },
 "nbformat": 4,
 "nbformat_minor": 4
}
